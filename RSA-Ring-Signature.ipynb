{
 "cells": [
  {
   "cell_type": "code",
   "execution_count": 1,
   "metadata": {},
   "outputs": [],
   "source": [
    "from Crypto.PublicKey import RSA as rsa\n",
    "from Crypto.Hash import SHA256\n",
    "import os\n",
    "import gmpy2\n",
    "import random"
   ]
  },
  {
   "cell_type": "code",
   "execution_count": 2,
   "metadata": {},
   "outputs": [],
   "source": [
    "#Set basic variables.\n",
    "#Generate_New_Signer_Key is only needed if the real signer doesnt have a key stored yet.\n",
    "Generate_New_Signer_Key = 0\n",
    "message = b'Test this message'\n",
    "total_ring_size = 5\n",
    "key_size = 1024"
   ]
  },
  {
   "cell_type": "code",
   "execution_count": 3,
   "metadata": {},
   "outputs": [],
   "source": [
    "#Generate a new key for the real signer\n",
    "#Note fix where you store they key.  lol it pushes to github like this\n",
    "if Generate_New_Signer_Key == 1:\n",
    "    signer_key = rsa.generate(key_size, os.urandom)\n",
    "    f = open('../../keys/mykey.der','wb')\n",
    "    f.write(signer_key.exportKey('DER'))\n",
    "    f.close()"
   ]
  },
  {
   "cell_type": "code",
   "execution_count": 4,
   "metadata": {},
   "outputs": [],
   "source": [
    "def ring_public_keys(signer_count, key_size):\n",
    "    #here we generate public keys and n for all members in the ring besides the true signer\n",
    "    #in a live environment these values would be known and would not require a function\n",
    "    b = 0\n",
    "    circle_pub_keys = []\n",
    "    circle_n = []\n",
    "    while b < (signer_count - 1):\n",
    "        circle_key = rsa.generate(key_size, os.urandom)\n",
    "        circle_pub_keys.append(circle_key.e)\n",
    "        circle_n.append(circle_key.n)\n",
    "        b += 1\n",
    "    return circle_pub_keys, circle_n\n",
    "    \n",
    "    "
   ]
  },
  {
   "cell_type": "code",
   "execution_count": null,
   "metadata": {},
   "outputs": [],
   "source": []
  },
  {
   "cell_type": "code",
   "execution_count": 5,
   "metadata": {},
   "outputs": [],
   "source": [
    "def scramble_ring(circle_pub_keys, circle_n):\n",
    "    #This is meant to randomly order the ring before signing\n",
    "    k = len(circle_pub_keys)\n",
    "    b = 0\n",
    "    scrambled_order = []\n",
    "    scrambled_pub_keys = []\n",
    "    scrambled_n = []\n",
    "    while b < k:\n",
    "        scrambled_order.append(b)\n",
    "        b += 1\n",
    "    random.shuffle(scrambled_order)\n",
    "    for i in scrambled_order:\n",
    "        scrambled_pub_keys = circle_pub_keys[scrambled_order[i]]\n",
    "        scrambled_n = circle_n[scrambled_order[i]]\n",
    "    return scrambled_pub_keys, scrambled_n\n",
    "        \n",
    "        "
   ]
  },
  {
   "cell_type": "code",
   "execution_count": null,
   "metadata": {},
   "outputs": [],
   "source": []
  },
  {
   "cell_type": "code",
   "execution_count": 6,
   "metadata": {},
   "outputs": [],
   "source": [
    "def sign_by_ring(public_key_set, public_n_set, v):\n",
    "    #This will sign each output.  This does not execute the trap door function.\n",
    "    for i in public_key_set:\n",
    "        for j in public_n_set:\n",
    "            s = int.from_bytes(os.urandom(key_size // 8),'big')\n",
    "            e = gmpy2.powmod(s,i,j)\n",
    "            v = v ^ e\n",
    "    return v\n",
    "    "
   ]
  },
  {
   "cell_type": "code",
   "execution_count": 7,
   "metadata": {},
   "outputs": [],
   "source": [
    "def trap_door(u,v,n,private_key):\n",
    "    #Execute the trapdoor function that should return v = E_k(u) same as above prior to all the ring signers\n",
    "    step_1 = v ^ u\n",
    "    s = gmpy2.powmod(step_1,private_key,n)\n",
    "    return s"
   ]
  },
  {
   "cell_type": "code",
   "execution_count": null,
   "metadata": {},
   "outputs": [],
   "source": []
  },
  {
   "cell_type": "code",
   "execution_count": null,
   "metadata": {},
   "outputs": [],
   "source": []
  },
  {
   "cell_type": "code",
   "execution_count": 8,
   "metadata": {},
   "outputs": [],
   "source": [
    "#def rotate_ring(ring_keys,ring_n,ring_size):\n",
    "    #here we need to pick a random starting ring member and rotate the ring.\n",
    "    #after the rotation we can hand the data to the verifier.\n",
    "#    b = randbetween(0,ring_size)"
   ]
  },
  {
   "cell_type": "code",
   "execution_count": 9,
   "metadata": {},
   "outputs": [],
   "source": [
    "#Hash and encrypt the message to generate v\n",
    "k = SHA256.new(message)\n",
    "k = k.digest()\n",
    "#Generate random value\n",
    "u = int.from_bytes(os.urandom(key_size // 8),'big')\n",
    "v = int.from_bytes(k,'big') ^ u"
   ]
  },
  {
   "cell_type": "code",
   "execution_count": 10,
   "metadata": {},
   "outputs": [],
   "source": [
    "public_key_set, public_n_set = ring_public_keys(total_ring_size, key_size)"
   ]
  },
  {
   "cell_type": "code",
   "execution_count": 11,
   "metadata": {},
   "outputs": [],
   "source": [
    "#Here we add the real signer to the ring\n",
    "g = open('../../keys/mykey.der','rb')\n",
    "key = rsa.importKey(g.read())\n",
    "public_key_set.append(key.e)\n",
    "public_n_set.append(key.n)\n",
    "g.close()"
   ]
  },
  {
   "cell_type": "code",
   "execution_count": 12,
   "metadata": {},
   "outputs": [],
   "source": [
    "scrambled_pub_key,scrambled_n = scramble_ring(public_key_set,public_n_set)"
   ]
  },
  {
   "cell_type": "code",
   "execution_count": 13,
   "metadata": {},
   "outputs": [],
   "source": [
    "step1_ring_sig = sign_by_ring(public_key_set, public_n_set, v)"
   ]
  },
  {
   "cell_type": "code",
   "execution_count": 14,
   "metadata": {},
   "outputs": [],
   "source": [
    "#Figure out how to add everything into this once you figure out the first encryption.\n",
    "final_signature = trap_door(u,step1_ring_sig,key.n,key.d)"
   ]
  },
  {
   "cell_type": "code",
   "execution_count": 15,
   "metadata": {},
   "outputs": [
    {
     "name": "stdout",
     "output_type": "stream",
     "text": [
      "88079493704947932336458533395641605486868838079728173465694690124723425190285485267697088928824787722836149887754004495244828569902956100813782586338963447625453031223594985696984586229045085833238654297966672956618194215591176168986182485883793801546515881660187888295269704233516743133577125930306554379637\n"
     ]
    }
   ],
   "source": [
    "print(v)"
   ]
  },
  {
   "cell_type": "code",
   "execution_count": 16,
   "metadata": {},
   "outputs": [
    {
     "name": "stdout",
     "output_type": "stream",
     "text": [
      "88079493704947932336458533395641605486868838079728173465694690124723425190285485267697088928824787722836149887754004495244828569902956100813782586338963447625453031223594985696984586229045085833238654297966672956618194215591176169076412563362817396437555696575410511224583368688689858726385027070894602262156\n"
     ]
    }
   ],
   "source": [
    "print(u)"
   ]
  },
  {
   "cell_type": "code",
   "execution_count": 17,
   "metadata": {},
   "outputs": [
    {
     "name": "stdout",
     "output_type": "stream",
     "text": [
      "102604619923898215726226695149947339043553732883732401101406987900615368926840442873486381310388256269355672862439681867846171258650895604191628786971066527058408217712657844356905815643493886612033188069092008217313994100194438420177106609077077896052219933529200272774206354140533051908762136672094656865344\n"
     ]
    }
   ],
   "source": [
    "print(final_signature)"
   ]
  },
  {
   "cell_type": "markdown",
   "metadata": {},
   "source": [
    "### Verify a signature"
   ]
  },
  {
   "cell_type": "code",
   "execution_count": 59,
   "metadata": {},
   "outputs": [
    {
     "name": "stdout",
     "output_type": "stream",
     "text": [
      "The signature is authentic.\n"
     ]
    }
   ],
   "source": [
    "h = SHA.new(message)\n",
    "verifier = sig.new(key)\n",
    "if verifier.verify(h, signature):\n",
    "    print(\"The signature is authentic.\")\n",
    "else:\n",
    "    print(\"The signature is not authentic.\")"
   ]
  },
  {
   "cell_type": "code",
   "execution_count": null,
   "metadata": {},
   "outputs": [],
   "source": []
  }
 ],
 "metadata": {
  "kernelspec": {
   "display_name": "Python 3",
   "language": "python",
   "name": "python3"
  },
  "language_info": {
   "codemirror_mode": {
    "name": "ipython",
    "version": 3
   },
   "file_extension": ".py",
   "mimetype": "text/x-python",
   "name": "python",
   "nbconvert_exporter": "python",
   "pygments_lexer": "ipython3",
   "version": "3.7.4"
  }
 },
 "nbformat": 4,
 "nbformat_minor": 2
}
