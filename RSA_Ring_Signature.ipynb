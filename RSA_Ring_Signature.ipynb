{
 "cells": [
  {
   "cell_type": "code",
   "execution_count": 1,
   "metadata": {},
   "outputs": [],
   "source": [
    "from Crypto.PublicKey import RSA as rsa\n",
    "from Crypto.Signature import PKCS1_v1_5 as sig\n",
    "from Crypto.Hash import SHA\n",
    "from Crypto.Cipher import XOR\n",
    "import os\n",
    "import gmpy2"
   ]
  },
  {
   "cell_type": "code",
   "execution_count": 18,
   "metadata": {},
   "outputs": [],
   "source": [
    "Generate_New_Signer_Key = 1\n",
    "message = b'Test this message'\n",
    "#This includes the real signer.  So we remove one when generating keys later.\n",
    "total_ring_size = 5\n",
    "key_size = 1024"
   ]
  },
  {
   "cell_type": "code",
   "execution_count": 10,
   "metadata": {},
   "outputs": [],
   "source": [
    "#Generate a new key for the real signer\n",
    "if Generate_New_Signer_Key == 1:\n",
    "    signer_key = rsa.generate(key_size, os.urandom)\n",
    "    f = open('mykey.der','wb')\n",
    "    f.write(signer_key.exportKey('DER'))\n",
    "    f.close()"
   ]
  },
  {
   "cell_type": "code",
   "execution_count": 4,
   "metadata": {},
   "outputs": [],
   "source": [
    "def ring_public_keys(signer_count, key_size):\n",
    "    b = 0\n",
    "    circle_pub_keys = []\n",
    "    circle_n = []\n",
    "    while b < (signer_count - 1):\n",
    "        circle_key = rsa.generate(key_size, os.urandom)\n",
    "        public_key = circle_key.publickey().exportKey(format='DER')\n",
    "        circle_pub_keys.append(public_key)\n",
    "        circle_n.append(circle_key.n)\n",
    "        b += 1\n",
    "    return circle_pub_keys, circle_n\n",
    "    \n",
    "    "
   ]
  },
  {
   "cell_type": "code",
   "execution_count": 6,
   "metadata": {},
   "outputs": [],
   "source": [
    "public_key_set, public_n_set = ring_public_keys(total_ring_size, key_size)"
   ]
  },
  {
   "cell_type": "code",
   "execution_count": 7,
   "metadata": {},
   "outputs": [],
   "source": [
    "#This will sign the outputs from the original signer.  This does not execute the trap door function.\n",
    "def sign_by_ring(public_key_set, public_n_set, v):\n",
    "    for i in public_key_set:\n",
    "        for j in public_n_set:\n",
    "            s = os.urandom\n",
    "            e = gmpy2.powmod(s,int.from_bytes(i,'big'),j)\n",
    "            cipher = XOR.new(e)\n",
    "            v = cipher.encrypt(v)\n",
    "    return v\n",
    "    "
   ]
  },
  {
   "cell_type": "code",
   "execution_count": 15,
   "metadata": {},
   "outputs": [],
   "source": [
    "#Create the first signature from the real signer\n",
    "g = open('mykey.der','rb')\n",
    "key = rsa.importKey(g.read())\n",
    "h = SHA.new(message)\n",
    "signer = sig.new(key)\n",
    "signature = signer.sign(h)"
   ]
  },
  {
   "cell_type": "code",
   "execution_count": 21,
   "metadata": {},
   "outputs": [
    {
     "ename": "ValueError",
     "evalue": "XOR key must be no longer than 32 bytes",
     "output_type": "error",
     "traceback": [
      "\u001b[0;31m---------------------------------------------------------------------------\u001b[0m",
      "\u001b[0;31mValueError\u001b[0m                                Traceback (most recent call last)",
      "\u001b[0;32m<ipython-input-21-5a1fa9708ec3>\u001b[0m in \u001b[0;36m<module>\u001b[0;34m\u001b[0m\n\u001b[1;32m      1\u001b[0m \u001b[0;31m#I need to spend a little time thinking about what the real signer sends to the second person in the ring\u001b[0m\u001b[0;34m\u001b[0m\u001b[0;34m\u001b[0m\u001b[0;34m\u001b[0m\u001b[0m\n\u001b[0;32m----> 2\u001b[0;31m \u001b[0mcipher\u001b[0m \u001b[0;34m=\u001b[0m \u001b[0mXOR\u001b[0m\u001b[0;34m.\u001b[0m\u001b[0mnew\u001b[0m\u001b[0;34m(\u001b[0m\u001b[0msignature\u001b[0m\u001b[0;34m)\u001b[0m\u001b[0;34m\u001b[0m\u001b[0;34m\u001b[0m\u001b[0m\n\u001b[0m",
      "\u001b[0;32m~/opt/anaconda3/lib/python3.7/site-packages/Crypto/Cipher/XOR.py\u001b[0m in \u001b[0;36mnew\u001b[0;34m(key, *args, **kwargs)\u001b[0m\n\u001b[1;32m     78\u001b[0m     \u001b[0;34m:\u001b[0m\u001b[0mReturn\u001b[0m\u001b[0;34m:\u001b[0m \u001b[0man\u001b[0m\u001b[0;31m \u001b[0m\u001b[0;31m`\u001b[0m\u001b[0mXORCipher\u001b[0m\u001b[0;31m`\u001b[0m \u001b[0mobject\u001b[0m\u001b[0;34m\u001b[0m\u001b[0;34m\u001b[0m\u001b[0m\n\u001b[1;32m     79\u001b[0m     \"\"\"\n\u001b[0;32m---> 80\u001b[0;31m     \u001b[0;32mreturn\u001b[0m \u001b[0mXORCipher\u001b[0m\u001b[0;34m(\u001b[0m\u001b[0mkey\u001b[0m\u001b[0;34m,\u001b[0m \u001b[0;34m*\u001b[0m\u001b[0margs\u001b[0m\u001b[0;34m,\u001b[0m \u001b[0;34m**\u001b[0m\u001b[0mkwargs\u001b[0m\u001b[0;34m)\u001b[0m\u001b[0;34m\u001b[0m\u001b[0;34m\u001b[0m\u001b[0m\n\u001b[0m\u001b[1;32m     81\u001b[0m \u001b[0;34m\u001b[0m\u001b[0m\n\u001b[1;32m     82\u001b[0m \u001b[0;31m#: Size of a data block (in bytes)\u001b[0m\u001b[0;34m\u001b[0m\u001b[0;34m\u001b[0m\u001b[0;34m\u001b[0m\u001b[0m\n",
      "\u001b[0;32m~/opt/anaconda3/lib/python3.7/site-packages/Crypto/Cipher/XOR.py\u001b[0m in \u001b[0;36m__init__\u001b[0;34m(self, key, *args, **kwargs)\u001b[0m\n\u001b[1;32m     42\u001b[0m \u001b[0;34m\u001b[0m\u001b[0m\n\u001b[1;32m     43\u001b[0m         See also `new()` at the module level.\"\"\"\n\u001b[0;32m---> 44\u001b[0;31m         \u001b[0mself\u001b[0m\u001b[0;34m.\u001b[0m\u001b[0m_cipher\u001b[0m \u001b[0;34m=\u001b[0m \u001b[0m_XOR\u001b[0m\u001b[0;34m.\u001b[0m\u001b[0mnew\u001b[0m\u001b[0;34m(\u001b[0m\u001b[0mkey\u001b[0m\u001b[0;34m,\u001b[0m \u001b[0;34m*\u001b[0m\u001b[0margs\u001b[0m\u001b[0;34m,\u001b[0m \u001b[0;34m**\u001b[0m\u001b[0mkwargs\u001b[0m\u001b[0;34m)\u001b[0m\u001b[0;34m\u001b[0m\u001b[0;34m\u001b[0m\u001b[0m\n\u001b[0m\u001b[1;32m     45\u001b[0m         \u001b[0mself\u001b[0m\u001b[0;34m.\u001b[0m\u001b[0mblock_size\u001b[0m \u001b[0;34m=\u001b[0m \u001b[0mself\u001b[0m\u001b[0;34m.\u001b[0m\u001b[0m_cipher\u001b[0m\u001b[0;34m.\u001b[0m\u001b[0mblock_size\u001b[0m\u001b[0;34m\u001b[0m\u001b[0;34m\u001b[0m\u001b[0m\n\u001b[1;32m     46\u001b[0m         \u001b[0mself\u001b[0m\u001b[0;34m.\u001b[0m\u001b[0mkey_size\u001b[0m \u001b[0;34m=\u001b[0m \u001b[0mself\u001b[0m\u001b[0;34m.\u001b[0m\u001b[0m_cipher\u001b[0m\u001b[0;34m.\u001b[0m\u001b[0mkey_size\u001b[0m\u001b[0;34m\u001b[0m\u001b[0;34m\u001b[0m\u001b[0m\n",
      "\u001b[0;31mValueError\u001b[0m: XOR key must be no longer than 32 bytes"
     ]
    }
   ],
   "source": [
    "#I need to spend a little time thinking about what the real signer sends to the second person in the ring\n",
    "cipher = XOR.new(signature)"
   ]
  },
  {
   "cell_type": "code",
   "execution_count": 36,
   "metadata": {},
   "outputs": [],
   "source": [
    "hashed = SHA.new(message)"
   ]
  },
  {
   "cell_type": "code",
   "execution_count": 6,
   "metadata": {},
   "outputs": [],
   "source": [
    "signer = sig.new(key)"
   ]
  },
  {
   "cell_type": "code",
   "execution_count": 7,
   "metadata": {},
   "outputs": [],
   "source": [
    "signature = signer.sign(hashed)"
   ]
  },
  {
   "cell_type": "markdown",
   "metadata": {},
   "source": [
    "### Verify a signature"
   ]
  },
  {
   "cell_type": "code",
   "execution_count": 59,
   "metadata": {},
   "outputs": [
    {
     "name": "stdout",
     "output_type": "stream",
     "text": [
      "The signature is authentic.\n"
     ]
    }
   ],
   "source": [
    "h = SHA.new(message)\n",
    "verifier = sig.new(key)\n",
    "if verifier.verify(h, signature):\n",
    "    print(\"The signature is authentic.\")\n",
    "else:\n",
    "    print(\"The signature is not authentic.\")"
   ]
  },
  {
   "cell_type": "code",
   "execution_count": null,
   "metadata": {},
   "outputs": [],
   "source": []
  }
 ],
 "metadata": {
  "kernelspec": {
   "display_name": "Python 3",
   "language": "python",
   "name": "python3"
  },
  "language_info": {
   "codemirror_mode": {
    "name": "ipython",
    "version": 3
   },
   "file_extension": ".py",
   "mimetype": "text/x-python",
   "name": "python",
   "nbconvert_exporter": "python",
   "pygments_lexer": "ipython3",
   "version": "3.7.4"
  }
 },
 "nbformat": 4,
 "nbformat_minor": 2
}
